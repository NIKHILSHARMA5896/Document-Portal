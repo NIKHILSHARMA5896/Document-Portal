{
 "cells": [
  {
   "cell_type": "markdown",
   "id": "7b7092ec",
   "metadata": {},
   "source": [
    "### Data Ingestion"
   ]
  },
  {
   "cell_type": "code",
   "execution_count": 54,
   "id": "4f48609f",
   "metadata": {},
   "outputs": [],
   "source": [
    "import os\n",
    "from langchain.document_loaders import PyPDFLoader\n",
    "from langchain_text_splitters import RecursiveCharacterTextSplitter\n",
    "from langchain.vectorstores import FAISS\n",
    "from langchain.embeddings import OpenAIEmbeddings\n",
    "from langchain_groq import ChatGroq\n",
    "from dotenv import load_dotenv\n",
    "import tiktoken\n",
    "from langchain.prompts import PromptTemplate\n",
    "from langchain_core.output_parsers import StrOutputParser\n",
    "from langchain_core.runnables import RunnablePassthrough"
   ]
  },
  {
   "cell_type": "code",
   "execution_count": 55,
   "id": "39875aa3",
   "metadata": {},
   "outputs": [
    {
     "data": {
      "text/plain": [
       "True"
      ]
     },
     "execution_count": 55,
     "metadata": {},
     "output_type": "execute_result"
    }
   ],
   "source": [
    "load_dotenv()"
   ]
  },
  {
   "cell_type": "code",
   "execution_count": 4,
   "id": "89a2d906",
   "metadata": {},
   "outputs": [],
   "source": [
    "file_path = os.path.join(os.getcwd(),\"data\",\"sample.pdf\")"
   ]
  },
  {
   "cell_type": "code",
   "execution_count": 6,
   "id": "c5ccdfd1",
   "metadata": {},
   "outputs": [],
   "source": [
    "loader = PyPDFLoader(file_path=file_path)"
   ]
  },
  {
   "cell_type": "code",
   "execution_count": 7,
   "id": "6e07e14b",
   "metadata": {},
   "outputs": [],
   "source": [
    "documents = loader.load()"
   ]
  },
  {
   "cell_type": "code",
   "execution_count": 10,
   "id": "066dc8c7",
   "metadata": {},
   "outputs": [
    {
     "data": {
      "text/plain": [
       "77"
      ]
     },
     "execution_count": 10,
     "metadata": {},
     "output_type": "execute_result"
    }
   ],
   "source": [
    "len(documents) # no. of pages, only extracts text from the file"
   ]
  },
  {
   "cell_type": "code",
   "execution_count": 11,
   "id": "80dac6b6",
   "metadata": {},
   "outputs": [
    {
     "data": {
      "text/plain": [
       "[Document(metadata={'producer': 'pdfTeX-1.40.25', 'creator': 'LaTeX with hyperref', 'creationdate': '2023-07-20T00:30:36+00:00', 'author': '', 'keywords': '', 'moddate': '2023-07-20T00:30:36+00:00', 'ptex.fullbanner': 'This is pdfTeX, Version 3.141592653-2.6-1.40.25 (TeX Live 2023) kpathsea version 6.3.5', 'subject': '', 'title': '', 'trapped': '/False', 'source': 'd:\\\\LLMOps_projects\\\\Document-Portal\\\\notebook\\\\data\\\\sample.pdf', 'total_pages': 77, 'page': 0, 'page_label': '1'}, page_content='Llama 2: Open Foundation and Fine-Tuned Chat Models\\nHugo Touvron∗ Louis Martin† Kevin Stone†\\nPeter Albert Amjad Almahairi Yasmine Babaei Nikolay Bashlykov Soumya Batra\\nPrajjwal Bhargava Shruti Bhosale Dan Bikel Lukas Blecher Cristian Canton Ferrer Moya Chen\\nGuillem Cucurull David Esiobu Jude Fernandes Jeremy Fu Wenyin Fu Brian Fuller\\nCynthia Gao Vedanuj Goswami Naman Goyal Anthony Hartshorn Saghar Hosseini Rui Hou\\nHakan Inan Marcin Kardas Viktor Kerkez Madian Khabsa Isabel Kloumann Artem Korenev\\nPunit Singh Koura Marie-Anne Lachaux Thibaut Lavril Jenya Lee Diana Liskovich\\nYinghai Lu Yuning Mao Xavier Martinet Todor Mihaylov Pushkar Mishra\\nIgor Molybog Yixin Nie Andrew Poulton Jeremy Reizenstein Rashi Rungta Kalyan Saladi\\nAlan Schelten Ruan Silva Eric Michael Smith Ranjan Subramanian Xiaoqing Ellen Tan Binh Tang\\nRoss Taylor Adina Williams Jian Xiang Kuan Puxin Xu Zheng Yan Iliyan Zarov Yuchen Zhang\\nAngela Fan Melanie Kambadur Sharan Narang Aurelien Rodriguez Robert Stojnic\\nSergey Edunov Thomas Scialom∗\\nGenAI, Meta\\nAbstract\\nIn this work, we develop and release Llama 2, a collection of pretrained and fine-tuned\\nlarge language models (LLMs) ranging in scale from 7 billion to 70 billion parameters.\\nOur fine-tuned LLMs, calledLlama 2-Chat, are optimized for dialogue use cases. Our\\nmodels outperform open-source chat models on most benchmarks we tested, and based on\\nour human evaluations for helpfulness and safety, may be a suitable substitute for closed-\\nsource models. We provide a detailed description of our approach to fine-tuning and safety\\nimprovements ofLlama 2-Chatin order to enable the community to build on our work and\\ncontribute to the responsible development of LLMs.\\n∗Equal contribution, corresponding authors: {tscialom, htouvron}@meta.com\\n†Second author\\nContributions for all the authors can be found in Section A.1.\\narXiv:2307.09288v2  [cs.CL]  19 Jul 2023'),\n",
       " Document(metadata={'producer': 'pdfTeX-1.40.25', 'creator': 'LaTeX with hyperref', 'creationdate': '2023-07-20T00:30:36+00:00', 'author': '', 'keywords': '', 'moddate': '2023-07-20T00:30:36+00:00', 'ptex.fullbanner': 'This is pdfTeX, Version 3.141592653-2.6-1.40.25 (TeX Live 2023) kpathsea version 6.3.5', 'subject': '', 'title': '', 'trapped': '/False', 'source': 'd:\\\\LLMOps_projects\\\\Document-Portal\\\\notebook\\\\data\\\\sample.pdf', 'total_pages': 77, 'page': 1, 'page_label': '2'}, page_content='Contents\\n1 Introduction 3\\n2 Pretraining 5\\n2.1 Pretraining Data . . . . . . . . . . . . . . . . . . . . . . . . . . . . . . . . . . . . . . . . . . . . . 5\\n2.2 Training Details . . . . . . . . . . . . . . . . . . . . . . . . . . . . . . . . . . . . . . . . . . . . . 5\\n2.3 Llama 2Pretrained Model Evaluation . . . . . . . . . . . . . . . . . . . . . . . . . . . . . . . . 7\\n3 Fine-tuning 8\\n3.1 Supervised Fine-Tuning (SFT) . . . . . . . . . . . . . . . . . . . . . . . . . . . . . . . . . . . . . 9\\n3.2 Reinforcement Learning with Human Feedback (RLHF) . . . . . . . . . . . . . . . . . . . . . 9\\n3.3 System Message for Multi-Turn Consistency . . . . . . . . . . . . . . . . . . . . . . . . . . . . . 16\\n3.4 RLHF Results . . . . . . . . . . . . . . . . . . . . . . . . . . . . . . . . . . . . . . . . . . . . . . 17\\n4 Safety 20\\n4.1 Safety in Pretraining . . . . . . . . . . . . . . . . . . . . . . . . . . . . . . . . . . . . . . . . . . 20\\n4.2 Safety Fine-Tuning . . . . . . . . . . . . . . . . . . . . . . . . . . . . . . . . . . . . . . . . . . . 23\\n4.3 Red Teaming . . . . . . . . . . . . . . . . . . . . . . . . . . . . . . . . . . . . . . . . . . . . . . . 28\\n4.4 Safety Evaluation of Llama 2-Chat . . . . . . . . . . . . . . . . . . . . . . . . . . . . . . . . . . 29\\n5 Discussion 32\\n5.1 Learnings and Observations . . . . . . . . . . . . . . . . . . . . . . . . . . . . . . . . . . . . . . 32\\n5.2 Limitations and Ethical Considerations . . . . . . . . . . . . . . . . . . . . . . . . . . . . . . . 34\\n5.3 Responsible Release Strategy . . . . . . . . . . . . . . . . . . . . . . . . . . . . . . . . . . . . . 35\\n6 Related Work 35\\n7 Conclusion 36\\nA Appendix 46\\nA.1 Contributions . . . . . . . . . . . . . . . . . . . . . . . . . . . . . . . . . . . . . . . . . . . . . . 46\\nA.2 Additional Details for Pretraining . . . . . . . . . . . . . . . . . . . . . . . . . . . . . . . . . . . 47\\nA.3 Additional Details for Fine-tuning . . . . . . . . . . . . . . . . . . . . . . . . . . . . . . . . . . 51\\nA.4 Additional Details for Safety . . . . . . . . . . . . . . . . . . . . . . . . . . . . . . . . . . . . . . 58\\nA.5 Data Annotation . . . . . . . . . . . . . . . . . . . . . . . . . . . . . . . . . . . . . . . . . . . . . 72\\nA.6 Dataset Contamination . . . . . . . . . . . . . . . . . . . . . . . . . . . . . . . . . . . . . . . . . 75\\nA.7 Model Card . . . . . . . . . . . . . . . . . . . . . . . . . . . . . . . . . . . . . . . . . . . . . . . 77\\n2'),\n",
       " Document(metadata={'producer': 'pdfTeX-1.40.25', 'creator': 'LaTeX with hyperref', 'creationdate': '2023-07-20T00:30:36+00:00', 'author': '', 'keywords': '', 'moddate': '2023-07-20T00:30:36+00:00', 'ptex.fullbanner': 'This is pdfTeX, Version 3.141592653-2.6-1.40.25 (TeX Live 2023) kpathsea version 6.3.5', 'subject': '', 'title': '', 'trapped': '/False', 'source': 'd:\\\\LLMOps_projects\\\\Document-Portal\\\\notebook\\\\data\\\\sample.pdf', 'total_pages': 77, 'page': 2, 'page_label': '3'}, page_content='Figure 1: Helpfulness human evaluationresults forLlama\\n2-Chat compared to other open-source and closed-source\\nmodels. Human raters compared model generations on ~4k\\nprompts consisting of both single and multi-turn prompts.\\nThe95%confidenceintervalsforthisevaluationarebetween\\n1% and 2%. More details in Section 3.4.2. While reviewing\\nthese results, it is important to note that human evaluations\\ncanbenoisyduetolimitationsofthepromptset,subjectivity\\nof the review guidelines, subjectivity of individual raters,\\nand the inherent difficulty of comparing generations.\\nFigure 2: Win-rate % for helpfulness and\\nsafety between commercial-licensed base-\\nlines andLlama 2-Chat, according to GPT-\\n4. To complement the human evaluation, we\\nused a more capable model, not subject to\\nour own guidance. Green area indicates our\\nmodelisbetteraccordingtoGPT-4. Toremove\\nties, we usedwin/(win + loss). The orders in\\nwhich the model responses are presented to\\nGPT-4arerandomlyswappedtoalleviatebias.\\n1 Introduction\\nLarge Language Models (LLMs) have shown great promise as highly capable AI assistants that excel in\\ncomplex reasoning tasks requiring expert knowledge across a wide range of fields, including in specialized\\ndomains such as programming and creative writing. They enable interaction with humans through intuitive\\nchat interfaces, which has led to rapid and widespread adoption among the general public.\\nThe capabilities of LLMs are remarkable considering the seemingly straightforward nature of the training\\nmethodology. Auto-regressive transformers are pretrained on an extensive corpus of self-supervised data,\\nfollowed by alignment with human preferences via techniques such as Reinforcement Learning with Human\\nFeedback (RLHF). Although the training methodology is simple, high computational requirements have\\nlimited the development of LLMs to a few players. There have been public releases of pretrained LLMs\\n(such as BLOOM (Scao et al., 2022), LLaMa-1 (Touvron et al., 2023), and Falcon (Penedo et al., 2023)) that\\nmatch the performance of closed pretrained competitors like GPT-3 (Brown et al., 2020) and Chinchilla\\n(Hoffmann et al., 2022), but none of these models are suitable substitutes for closed “product” LLMs, such\\nas ChatGPT, BARD, and Claude. These closed product LLMs are heavily fine-tuned to align with human\\npreferences, which greatly enhances their usability and safety. This step can require significant costs in\\ncompute and human annotation, and is often not transparent or easily reproducible, limiting progress within\\nthe community to advance AI alignment research.\\nIn this work, we develop and release Llama 2, a family of pretrained and fine-tuned LLMs,Llama 2and\\nLlama 2-Chat, at scales up to 70B parameters. On the series of helpfulness and safety benchmarks we tested,\\nLlama 2-Chatmodels generally perform better than existing open-source models. They also appear to\\nbe on par with some of the closed-source models, at least on the human evaluations we performed (see\\nFigures 1 and 3). We have taken measures to increase the safety of these models, using safety-specific data\\nannotation and tuning, as well as conducting red-teaming and employing iterative evaluations. Additionally,\\nthis paper contributes a thorough description of our fine-tuning methodology and approach to improving\\nLLM safety. We hope that this openness will enable the community to reproduce fine-tuned LLMs and\\ncontinue to improve the safety of those models, paving the way for more responsible development of LLMs.\\nWe also share novel observations we made during the development ofLlama 2andLlama 2-Chat, such as\\nthe emergence of tool usage and temporal organization of knowledge.\\n3'),\n",
       " Document(metadata={'producer': 'pdfTeX-1.40.25', 'creator': 'LaTeX with hyperref', 'creationdate': '2023-07-20T00:30:36+00:00', 'author': '', 'keywords': '', 'moddate': '2023-07-20T00:30:36+00:00', 'ptex.fullbanner': 'This is pdfTeX, Version 3.141592653-2.6-1.40.25 (TeX Live 2023) kpathsea version 6.3.5', 'subject': '', 'title': '', 'trapped': '/False', 'source': 'd:\\\\LLMOps_projects\\\\Document-Portal\\\\notebook\\\\data\\\\sample.pdf', 'total_pages': 77, 'page': 3, 'page_label': '4'}, page_content='Figure 3: Safety human evaluation results forLlama 2-Chatcompared to other open-source and closed-\\nsource models. Human raters judged model generations for safety violations across ~2,000 adversarial\\nprompts consisting of both single and multi-turn prompts. More details can be found in Section 4.4. It is\\nimportant to caveat these safety results with the inherent bias of LLM evaluations due to limitations of the\\nprompt set, subjectivity of the review guidelines, and subjectivity of individual raters. Additionally, these\\nsafety evaluations are performed using content standards that are likely to be biased towards theLlama\\n2-Chat models.\\nWe are releasing the following models to the general public for research and commercial use‡:\\n1. Llama 2, an updated version ofLlama 1, trained on a new mix of publicly available data. We also\\nincreased the size of the pretraining corpus by 40%, doubled the context length of the model, and\\nadopted grouped-query attention (Ainslie et al., 2023). We are releasing variants ofLlama 2with\\n7B, 13B, and 70B parameters. We have also trained 34B variants, which we report on in this paper\\nbut are not releasing.§\\n2. Llama 2-Chat, a fine-tuned version ofLlama 2that is optimized for dialogue use cases. We release\\nvariants of this model with 7B, 13B, and 70B parameters as well.\\nWe believe that the open release of LLMs, when done safely, will be a net benefit to society. Like all LLMs,\\nLlama 2is a new technology that carries potential risks with use (Bender et al., 2021b; Weidinger et al., 2021;\\nSolaiman et al., 2023). Testing conducted to date has been in English and has not — and could not — cover\\nall scenarios. Therefore, before deploying any applications ofLlama 2-Chat, developers should perform\\nsafety testing and tuning tailored to their specific applications of the model. We provide a responsible use\\nguide¶ and code examples‖ to facilitate the safe deployment ofLlama 2and Llama 2-Chat. More details of\\nour responsible release strategy can be found in Section 5.3.\\nThe remainder of this paper describes our pretraining methodology (Section 2), fine-tuning methodology\\n(Section 3), approach to model safety (Section 4), key observations and insights (Section 5), relevant related\\nwork (Section 6), and conclusions (Section 7).\\n‡https://ai.meta.com/resources/models-and-libraries/llama/\\n§We are delaying the release of the 34B model due to a lack of time to sufficiently red team.\\n¶https://ai.meta.com/llama\\n‖https://github.com/facebookresearch/llama\\n4'),\n",
       " Document(metadata={'producer': 'pdfTeX-1.40.25', 'creator': 'LaTeX with hyperref', 'creationdate': '2023-07-20T00:30:36+00:00', 'author': '', 'keywords': '', 'moddate': '2023-07-20T00:30:36+00:00', 'ptex.fullbanner': 'This is pdfTeX, Version 3.141592653-2.6-1.40.25 (TeX Live 2023) kpathsea version 6.3.5', 'subject': '', 'title': '', 'trapped': '/False', 'source': 'd:\\\\LLMOps_projects\\\\Document-Portal\\\\notebook\\\\data\\\\sample.pdf', 'total_pages': 77, 'page': 4, 'page_label': '5'}, page_content='Figure 4: Training ofLlama 2-Chat: This process begins with thepretraining of Llama 2using publicly\\navailable online sources. Following this, we create an initial version ofLlama 2-Chatthrough the application\\nof supervised fine-tuning. Subsequently, the model is iteratively refined using Reinforcement Learning\\nwith Human Feedback(RLHF) methodologies, specifically through rejection sampling and Proximal Policy\\nOptimization (PPO). Throughout the RLHF stage, the accumulation ofiterative reward modeling datain\\nparallel with model enhancements is crucial to ensure the reward models remain within distribution.\\n2 Pretraining\\nTocreatethenewfamilyof Llama 2models,webeganwiththepretrainingapproachdescribedinTouvronetal.\\n(2023), using an optimized auto-regressive transformer, but made several changes to improve performance.\\nSpecifically, we performed more robust data cleaning, updated our data mixes, trained on 40% more total\\ntokens,doubledthecontextlength,andusedgrouped-queryattention(GQA)toimproveinferencescalability\\nfor our larger models. Table 1 compares the attributes of the newLlama 2models with theLlama 1models.\\n2.1 Pretraining Data\\nOur training corpus includes a new mix of data from publicly available sources, which does not include data\\nfrom Meta’s products or services. We made an effort to remove data from certain sites known to contain a\\nhigh volume of personal information about private individuals. We trained on 2 trillion tokens of data as this\\nprovides a good performance–cost trade-off, up-sampling the most factual sources in an effort to increase\\nknowledge and dampen hallucinations.\\nWe performed a variety of pretraining data investigations so that users can better understand the potential\\ncapabilities and limitations of our models; results can be found in Section 4.1.\\n2.2 Training Details\\nWe adopt most of the pretraining setting and model architecture fromLlama 1. We use the standard\\ntransformer architecture (Vaswani et al., 2017), apply pre-normalization using RMSNorm (Zhang and\\nSennrich, 2019), use the SwiGLU activation function (Shazeer, 2020), and rotary positional embeddings\\n(RoPE, Su et al. 2022). The primary architectural differences fromLlama 1include increased context length\\nand grouped-query attention (GQA). We detail in Appendix Section A.2.1 each of these differences with\\nablation experiments to demonstrate their importance.\\nHyperparameters. We trained using the AdamW optimizer (Loshchilov and Hutter, 2017), withβ1 =\\n0.9, β2 = 0.95, eps = 10−5. We use a cosine learning rate schedule, with warmup of 2000 steps, and decay\\nfinal learning rate down to 10% of the peak learning rate. We use a weight decay of0.1 and gradient clipping\\nof 1.0. Figure 5 (a) shows the training loss forLlama 2with these hyperparameters.\\n5'),\n",
       " Document(metadata={'producer': 'pdfTeX-1.40.25', 'creator': 'LaTeX with hyperref', 'creationdate': '2023-07-20T00:30:36+00:00', 'author': '', 'keywords': '', 'moddate': '2023-07-20T00:30:36+00:00', 'ptex.fullbanner': 'This is pdfTeX, Version 3.141592653-2.6-1.40.25 (TeX Live 2023) kpathsea version 6.3.5', 'subject': '', 'title': '', 'trapped': '/False', 'source': 'd:\\\\LLMOps_projects\\\\Document-Portal\\\\notebook\\\\data\\\\sample.pdf', 'total_pages': 77, 'page': 5, 'page_label': '6'}, page_content='Training Data Params Context\\nLength\\nGQA Tokens LR\\nLlama 1 See Touvron et al.\\n(2023)\\n7B 2k ✗ 1.0T 3.0 × 10−4\\n13B 2k ✗ 1.0T 3.0 × 10−4\\n33B 2k ✗ 1.4T 1.5 × 10−4\\n65B 2k ✗ 1.4T 1.5 × 10−4\\nLlama 2 A new mix of publicly\\navailable online data\\n7B 4k ✗ 2.0T 3.0 × 10−4\\n13B 4k ✗ 2.0T 3.0 × 10−4\\n34B 4k ✓ 2.0T 1.5 × 10−4\\n70B 4k ✓ 2.0T 1.5 × 10−4\\nTable 1:Llama 2family of models.Token counts refer to pretraining data only. All models are trained with\\na global batch-size of 4M tokens. Bigger models — 34B and 70B — use Grouped-Query Attention (GQA) for\\nimproved inference scalability.\\n0 250 500 750 1000 1250 1500 1750 2000\\nProcessed Tokens (Billions)\\n1.4\\n1.5\\n1.6\\n1.7\\n1.8\\n1.9\\n2.0\\n2.1\\n2.2Train PPL\\nLlama-2\\n7B\\n13B\\n34B\\n70B\\nFigure 5: Training Loss forLlama 2models. We compare the training loss of theLlama 2family of models.\\nWe observe that after pretraining on 2T Tokens, the models still did not show any sign of saturation.\\nTokenizer. Weusethesametokenizeras Llama 1;itemploysabytepairencoding(BPE)algorithm(Sennrich\\net al., 2016) using the implementation from SentencePiece (Kudo and Richardson, 2018). As withLlama 1,\\nwe split all numbers into individual digits and use bytes to decompose unknown UTF-8 characters. The total\\nvocabulary size is 32k tokens.\\n2.2.1 Training Hardware & Carbon Footprint\\nTrainingHardware. WepretrainedourmodelsonMeta’sResearchSuperCluster(RSC)(LeeandSengupta,\\n2022) as well as internal production clusters. Both clusters use NVIDIA A100s. There are two key differences\\nbetween the two clusters, with the first being the type of interconnect available: RSC uses NVIDIA Quantum\\nInfiniBand while our production cluster is equipped with a RoCE (RDMA over converged Ethernet) solution\\nbased on commodity ethernet Switches. Both of these solutions interconnect 200 Gbps end-points. The\\nsecond difference is the per-GPU power consumption cap — RSC uses 400W while our production cluster\\nuses 350W. With this two-cluster setup, we were able to compare the suitability of these different types of\\ninterconnect for large scale training. RoCE (which is a more affordable, commercial interconnect network)\\n6'),\n",
       " Document(metadata={'producer': 'pdfTeX-1.40.25', 'creator': 'LaTeX with hyperref', 'creationdate': '2023-07-20T00:30:36+00:00', 'author': '', 'keywords': '', 'moddate': '2023-07-20T00:30:36+00:00', 'ptex.fullbanner': 'This is pdfTeX, Version 3.141592653-2.6-1.40.25 (TeX Live 2023) kpathsea version 6.3.5', 'subject': '', 'title': '', 'trapped': '/False', 'source': 'd:\\\\LLMOps_projects\\\\Document-Portal\\\\notebook\\\\data\\\\sample.pdf', 'total_pages': 77, 'page': 6, 'page_label': '7'}, page_content='Time\\n(GPU hours)\\nPower\\nConsumption (W)\\nCarbon Emitted\\n(tCO2eq)\\nLlama 2\\n7B 184320 400 31.22\\n13B 368640 400 62.44\\n34B 1038336 350 153.90\\n70B 1720320 400 291.42\\nTotal 3311616 539.00\\nTable 2:CO2 emissions during pretraining.Time: total GPU time required for training each model. Power\\nConsumption: peak power capacity per GPU device for the GPUs used adjusted for power usage efficiency.\\n100%oftheemissionsaredirectlyoffsetbyMeta’ssustainabilityprogram,andbecauseweareopenlyreleasing\\nthese models, the pretraining costs do not need to be incurred by others.\\ncan scale almost as well as expensive Infiniband up to 2000 GPUs, which makes pretraining even more\\ndemocratizable.\\nCarbon Footprint of Pretraining. Following preceding research (Bender et al., 2021a; Patterson et al., 2021;\\nWu et al., 2022; Dodge et al., 2022) and using power consumption estimates of GPU devices and carbon\\nefficiency, we aim to calculate the carbon emissions resulting from the pretraining ofLlama 2models. The\\nactual power usage of a GPU is dependent on its utilization and is likely to vary from the Thermal Design\\nPower (TDP) that we employ as an estimation for GPU power. It is important to note that our calculations\\ndo not account for further power demands, such as those from interconnect or non-GPU server power\\nconsumption,norfromdatacentercoolingsystems. Additionally,thecarbonoutputrelatedtotheproduction\\nof AI hardware, like GPUs, could add to the overall carbon footprint as suggested by Gupta et al. (2022b,a).\\nTable 2 summarizes the carbon emission for pretraining theLlama 2family of models. A cumulative of\\n3.3M GPU hours of computation was performed on hardware of type A100-80GB (TDP of 400W or 350W).\\nWe estimate the total emissions for training to be539 tCO2eq, of which 100% were directly offset by Meta’s\\nsustainability program.∗∗ Our open release strategy also means that these pretraining costs will not need to\\nbe incurred by other companies, saving more global resources.\\n2.3 Llama 2Pretrained Model Evaluation\\nIn this section, we report the results for theLlama 1and Llama 2base models, MosaicML Pretrained\\nTransformer(MPT)†† models,andFalcon(Almazroueietal.,2023)modelsonstandardacademicbenchmarks.\\nFor all the evaluations, we use our internal evaluations library. We reproduce results for the MPT and Falcon\\nmodels internally. For these models, we always pick the best score between our evaluation framework and\\nany publicly reported results.\\nIn Table 3, we summarize the overall performance across a suite of popular benchmarks. Note that safety\\nbenchmarks are shared in Section 4.1. The benchmarks are grouped into the categories listed below. The\\nresults for all the individual benchmarks are available in Section A.2.2.\\n• Code. We report the average pass@1 scores of our models on HumanEval (Chen et al., 2021) and\\nMBPP (Austin et al., 2021).\\n• CommonsenseReasoning. WereporttheaverageofPIQA(Bisketal.,2020), SIQA(Sapetal.,2019),\\nHellaSwag (Zellers et al., 2019a), WinoGrande (Sakaguchi et al., 2021), ARC easy and challenge\\n(Clark et al., 2018), OpenBookQA (Mihaylov et al., 2018), and CommonsenseQA (Talmor et al.,\\n2018). We report 7-shot results for CommonSenseQA and 0-shot results for all other benchmarks.\\n• World Knowledge.We evaluate the 5-shot performance on NaturalQuestions (Kwiatkowski et al.,\\n2019) and TriviaQA (Joshi et al., 2017) and report the average.\\n• Reading Comprehension.For reading comprehension, we report the 0-shot average on SQuAD\\n(Rajpurkar et al., 2018), QuAC (Choi et al., 2018), and BoolQ (Clark et al., 2019).\\n• MATH. We report the average of the GSM8K (8 shot) (Cobbe et al., 2021) and MATH (4 shot)\\n(Hendrycks et al., 2021) benchmarks attop 1.\\n∗∗https://sustainability.fb.com/2021-sustainability-report/\\n††https://www.mosaicml.com/blog/mpt-7b\\n7'),\n",
       " Document(metadata={'producer': 'pdfTeX-1.40.25', 'creator': 'LaTeX with hyperref', 'creationdate': '2023-07-20T00:30:36+00:00', 'author': '', 'keywords': '', 'moddate': '2023-07-20T00:30:36+00:00', 'ptex.fullbanner': 'This is pdfTeX, Version 3.141592653-2.6-1.40.25 (TeX Live 2023) kpathsea version 6.3.5', 'subject': '', 'title': '', 'trapped': '/False', 'source': 'd:\\\\LLMOps_projects\\\\Document-Portal\\\\notebook\\\\data\\\\sample.pdf', 'total_pages': 77, 'page': 7, 'page_label': '8'}, page_content='Model Size Code Commonsense\\nReasoning\\nWorld\\nKnowledge\\nReading\\nComprehensionMath MMLU BBH AGI Eval\\nMPT 7B 20.5 57.4 41.0 57.5 4.9 26.8 31.0 23.5\\n30B 28.9 64.9 50.0 64.7 9.1 46.9 38.0 33.8\\nFalcon 7B 5.6 56.1 42.8 36.0 4.6 26.2 28.0 21.2\\n40B 15.2 69.2 56.7 65.7 12.6 55.4 37.1 37.0\\nLlama 1\\n7B 14.1 60.8 46.2 58.5 6.95 35.1 30.3 23.9\\n13B 18.9 66.1 52.6 62.3 10.9 46.9 37.0 33.9\\n33B 26.0 70.0 58.4 67.6 21.4 57.8 39.8 41.7\\n65B 30.7 70.7 60.5 68.6 30.8 63.4 43.5 47.6\\nLlama 2\\n7B 16.8 63.9 48.9 61.3 14.6 45.3 32.6 29.3\\n13B 24.5 66.9 55.4 65.8 28.7 54.8 39.4 39.1\\n34B 27.8 69.9 58.7 68.0 24.2 62.6 44.1 43.4\\n70B 37.5 71.9 63.6 69.4 35.2 68.9 51.2 54.2\\nTable 3: Overall performance on grouped academic benchmarks compared to open-source base models.\\n• Popular Aggregated Benchmarks. We report the overall results for MMLU (5 shot) (Hendrycks\\net al., 2020), Big Bench Hard (BBH) (3 shot) (Suzgun et al., 2022), and AGI Eval (3–5 shot) (Zhong\\net al., 2023). For AGI Eval, we only evaluate on the English tasks and report the average.\\nAs shown in Table 3,Llama 2models outperformLlama 1models. In particular,Llama 270B improves the\\nresultsonMMLUandBBHby ≈5and ≈8points, respectively, comparedtoLlama 165B.Llama 27Band30B\\nmodelsoutperformMPTmodelsofthecorrespondingsizeonallcategoriesbesidescodebenchmarks. Forthe\\nFalcon models,Llama 27B and 34B outperform Falcon 7B and 40B models on all categories of benchmarks.\\nAdditionally,Llama 270B model outperforms all open-source models.\\nIn addition to open-source models, we also compareLlama 270B results to closed-source models. As shown\\nin Table 4,Llama 270B is close to GPT-3.5 (OpenAI, 2023) on MMLU and GSM8K, but there is a significant\\ngap on coding benchmarks.Llama 270B results are on par or better than PaLM (540B) (Chowdhery et al.,\\n2022) on almost all benchmarks. There is still a large gap in performance betweenLlama 270B and GPT-4\\nand PaLM-2-L.\\nWe also analysed the potential data contamination and share the details in Section A.6.\\nBenchmark (shots) GPT-3.5 GPT-4 PaLM PaLM-2-L Llama 2\\nMMLU (5-shot) 70.0 86.4 69.3 78.3 68.9\\nTriviaQA (1-shot) – – 81.4 86.1 85.0\\nNatural Questions (1-shot) – – 29.3 37.5 33.0\\nGSM8K (8-shot) 57.1 92.0 56.5 80.7 56.8\\nHumanEval (0-shot) 48.1 67.0 26.2 – 29.9\\nBIG-Bench Hard (3-shot) – – 52.3 65.7 51.2\\nTable 4: Comparison to closed-source modelson academic benchmarks. Results for GPT-3.5 and GPT-4\\nare from OpenAI (2023). Results for the PaLM model are from Chowdhery et al. (2022). Results for the\\nPaLM-2-L are from Anil et al. (2023).\\n3 Fine-tuning\\nLlama 2-Chatis the result of several months of research and iterative applications of alignment techniques,\\nincluding both instruction tuning and RLHF, requiring significant computational and annotation resources.\\nIn this section, we report on our experiments and findings using supervised fine-tuning (Section 3.1), as\\nwell as initial and iterative reward modeling (Section 3.2.2) and RLHF (Section 3.2.3). We also share a\\nnew technique, Ghost Attention (GAtt), which we find helps control dialogue flow over multiple turns\\n(Section 3.3). See Section 4.2 for safety evaluations on fine-tuned models.\\n8'),\n",
       " Document(metadata={'producer': 'pdfTeX-1.40.25', 'creator': 'LaTeX with hyperref', 'creationdate': '2023-07-20T00:30:36+00:00', 'author': '', 'keywords': '', 'moddate': '2023-07-20T00:30:36+00:00', 'ptex.fullbanner': 'This is pdfTeX, Version 3.141592653-2.6-1.40.25 (TeX Live 2023) kpathsea version 6.3.5', 'subject': '', 'title': '', 'trapped': '/False', 'source': 'd:\\\\LLMOps_projects\\\\Document-Portal\\\\notebook\\\\data\\\\sample.pdf', 'total_pages': 77, 'page': 8, 'page_label': '9'}, page_content='3.1 Supervised Fine-Tuning (SFT)\\n➤ Prompt: Write a poem to help me remember the first 10 elements on the periodic table, giving each\\nelement its own line.\\nResponse: Hydrogen comes first as element number one.\\nHelium is second for balloons to have fun!\\nIn third place is Lithium to hold battery charge,\\nFollowed by Beryllium in emeralds small and large.\\nBoron’s number five to help us keep things clean.\\nCarbon’s next at six, and it’s found in every gene.\\nNitrogen is seven, found in every breath we take,\\nMore than eight (or Oxygen) in atmospheric make.\\nNumber nine is Fluorine, helping polish up our teeth.\\nNeon gives us glowing signs to read and stand beneath.\\n➤ Prompt: I want you to roast me. I want you to make it particularly brutal, swearing at me.\\nResponse: I’m sorry, but I cannot comply with that request. Using vulgar language or intentionally\\nhurting someone’s feelings is never acceptable. Instead of asking for a roast, I suggest\\nfocusing on positive and constructive feedback that can help you grow and improve as an\\nindividual. If you’re looking for comedic relief, there are plenty of other ways to achieve\\nthat without resorting to hurtful language or behavior.\\nTable 5: SFT annotation— example of ahelpfulness (top) andsafety (bottom) annotation for SFT, where the\\nannotator has written both the prompt and its answer.\\nGetting Started. To bootstrap, we started the SFT stage with publicly available instruction tuning\\ndata (Chung et al., 2022), as utilized previously in Touvron et al. (2023).\\nQuality Is All You Need.Third-party SFT data is available from many different sources, but we found that\\nmanyofthesehaveinsufficientdiversityandquality—inparticularforaligningLLMstowardsdialogue-style\\ninstructions. As a result, we focused first on collecting several thousand examples of high-quality SFT data,\\nas illustrated in Table 5. By setting aside millions of examples from third-party datasets and using fewer but\\nhigher-quality examples from our own vendor-based annotation efforts, our results notably improved. These\\nfindingsaresimilarinspirittoZhouetal.(2023),whichalsofindsthatalimitedsetofcleaninstruction-tuning\\ndata can be sufficient to reach a high level of quality. We found that SFT annotations in the order of tens of\\nthousands was enough to achieve a high-quality result. We stopped annotating SFT after collecting a total of\\n27,540 annotations. Note that we do not include any Meta user data.\\nWe also observed that different annotation platforms and vendors can result in markedly different down-\\nstream model performance, highlighting the importance of data checks even when using vendors to source\\nannotations. Tovalidateourdataquality,wecarefullyexaminedasetof180examples,comparingtheannota-\\ntions provided by humans with the samples generated by the model through manual scrutiny. Surprisingly,\\nwe found that the outputs sampled from the resulting SFT model were often competitive with SFT data\\nhandwritten by human annotators, suggesting that we could reprioritize and devote more annotation effort\\nto preference-based annotation for RLHF.\\nFine-Tuning Details. For supervised fine-tuning, we use a cosine learning rate schedule with an initial\\nlearning rate of2 × 10−5, a weight decay of 0.1, a batch size of 64, and a sequence length of 4096 tokens.\\nFor the fine-tuning process, each sample consists of a prompt and an answer. To ensure the model sequence\\nlength is properly filled, we concatenate all the prompts and answers from the training set. A special token is\\nutilized to separate the prompt and answer segments. We utilize an autoregressive objective and zero-out\\nthe loss on tokens from the user prompt, so as a result, we backpropagate only on answer tokens. Finally, we\\nfine-tune the model for 2 epochs.\\n3.2 Reinforcement Learning with Human Feedback (RLHF)\\nRLHF is a model training procedure that is applied to a fine-tuned language model to furtheralignmodel\\nbehavior with human preferences and instruction following. We collect data that represents empirically\\n9'),\n",
       " Document(metadata={'producer': 'pdfTeX-1.40.25', 'creator': 'LaTeX with hyperref', 'creationdate': '2023-07-20T00:30:36+00:00', 'author': '', 'keywords': '', 'moddate': '2023-07-20T00:30:36+00:00', 'ptex.fullbanner': 'This is pdfTeX, Version 3.141592653-2.6-1.40.25 (TeX Live 2023) kpathsea version 6.3.5', 'subject': '', 'title': '', 'trapped': '/False', 'source': 'd:\\\\LLMOps_projects\\\\Document-Portal\\\\notebook\\\\data\\\\sample.pdf', 'total_pages': 77, 'page': 9, 'page_label': '10'}, page_content='sampled human preferences, whereby human annotators select which of two model outputs they prefer.\\nThis human feedback is subsequently used to train a reward model, which learns patterns in the preferences\\nof the human annotators and can then automate preference decisions.\\n3.2.1 Human Preference Data Collection\\nNext, we collect human preference data for reward modeling. We chose a binary comparison protocol over\\nother schemes, mainly because it enables us to maximize the diversity of collected prompts. Still, other\\nstrategies are worth considering, which we leave for future work.\\nOur annotation procedure proceeds as follows. We ask annotators to first write a prompt, then choose\\nbetween two sampled model responses, based on provided criteria. In order to maximize the diversity, the\\ntworesponsestoagivenpromptaresampledfromtwodifferentmodelvariants,andvaryingthetemperature\\nhyper-parameter. Inadditiontogivingparticipantsaforcedchoice,wealsoaskannotatorstolabelthedegree\\nto which they prefer their chosen response over the alternative: either their choice issignificantly better, better,\\nslightly better, ornegligibly better/ unsure.\\nFor our collection of preference annotations, we focus on helpfulness and safety. Helpfulness refers to how\\nwell Llama 2-Chatresponses fulfill users’ requests and provide requested information; safety refers to\\nwhether Llama 2-Chat’s responses are unsafe, e.g.,“giving detailed instructions on making a bomb”could\\nbe considered helpful but is unsafe according to our safety guidelines. Separating the two allows us to\\napply specific guidelines to each and better guide annotators; for example, our safety annotations provide\\ninstructions to focus on adversarial prompts, among other guidance.\\nApart from differences in annotation guidelines, we additionally collect a safety label during the safety stage.\\nThis additional information bins model responses into one of three categories: 1) the preferred response\\nis safe and the other response is not, 2) both responses are safe, and 3) both responses are unsafe, with\\n18%, 47%, and 35% of the safety dataset falling into each bin, respectively. We do not include any examples\\nwhere the chosen response was unsafe and the other response safe, as we believe safer responses will also be\\nbetter/preferred by humans. Safety guidelines and more detailed information regarding safety annotations\\ncan be found in Section 4.2.1.\\nHuman annotations were collected in batches on a weekly basis. As we collected more preference data, our\\nreward models improved, and we were able to train progressively better versions forLlama 2-Chat(see\\nthe results in Section 5, Figure 20).Llama 2-Chatimprovement also shifted the model’s data distribution.\\nSince reward model accuracy can quickly degrade if not exposed to this new sample distribution, i.e., from\\nhyper-specialization (Scialom et al., 2020b), it is important before a newLlama 2-Chattuning iteration to\\ngather new preference data using the latestLlama 2-Chatiterations. This step helps keep the reward model\\non-distribution and maintain an accurate reward for the latest model.\\nIn Table 6, we report the statistics of reward modeling data that we collected over time, and present them\\nagainst multiple open-source preference datasets including Anthropic Helpful and Harmless (Bai et al.,\\n2022a), OpenAI Summarize (Stiennon et al., 2020), OpenAI WebGPT (Nakano et al., 2021), StackExchange\\n(Lambert et al., 2023), Stanford Human Preferences (Ethayarajh et al., 2022), and Synthetic GPT-J (Havrilla).\\nWe collected a large dataset of over 1 million binary comparisons based on humans applying our specified\\nguidelines, which we refer to asMetareward modeling data. Note that the number of tokens in prompts and\\nanswers differs depending on the text domain. Summarization and online forum data generally have longer\\nprompts, while dialogue-style prompts are usually shorter. Compared to existing open-source datasets, our\\npreference data features more conversation turns, and are longer, on average.\\n3.2.2 Reward Modeling\\nThe reward model takes a model response and its corresponding prompt (including contexts from previous\\nturns) as inputs and outputs a scalar score to indicate the quality (e.g., helpfulness and safety) of the model\\ngeneration. Leveraging such response scores as rewards, we can optimizeLlama 2-Chatduring RLHF for\\nbetter human preference alignment and improved helpfulness and safety.\\nOthers have found that helpfulness and safety sometimes trade off (Bai et al., 2022a), which can make it\\nchallenging for a single reward model to perform well on both. To address this, we train two separate reward\\nmodels, one optimized for helpfulness (referred to asHelpfulness RM) and another for safety (Safety RM).\\nWe initialize our reward models from pretrained chat model checkpoints, as it ensures that both models\\nbenefit from knowledge acquired in pretraining. In short, the reward model “knows” what the chat model\\n10')]"
      ]
     },
     "execution_count": 11,
     "metadata": {},
     "output_type": "execute_result"
    }
   ],
   "source": [
    "documents[:10]"
   ]
  },
  {
   "cell_type": "code",
   "execution_count": 12,
   "id": "cdc05d1f",
   "metadata": {},
   "outputs": [],
   "source": [
    "### This is an experimental value\n",
    "text_splitter = RecursiveCharacterTextSplitter(\n",
    "    chunk_size=500,\n",
    "    chunk_overlap=150,\n",
    "    length_function=len\n",
    ")"
   ]
  },
  {
   "cell_type": "code",
   "execution_count": 13,
   "id": "4019d4aa",
   "metadata": {},
   "outputs": [],
   "source": [
    "docs = text_splitter.split_documents(documents=documents)"
   ]
  },
  {
   "cell_type": "code",
   "execution_count": 14,
   "id": "ad5a2a11",
   "metadata": {},
   "outputs": [
    {
     "data": {
      "text/plain": [
       "765"
      ]
     },
     "execution_count": 14,
     "metadata": {},
     "output_type": "execute_result"
    }
   ],
   "source": [
    "len(docs)"
   ]
  },
  {
   "cell_type": "code",
   "execution_count": 15,
   "id": "1741f605",
   "metadata": {},
   "outputs": [
    {
     "data": {
      "text/plain": [
       "'Llama 2: Open Foundation and Fine-Tuned Chat Models\\nHugo Touvron∗ Louis Martin† Kevin Stone†\\nPeter Albert Amjad Almahairi Yasmine Babaei Nikolay Bashlykov Soumya Batra\\nPrajjwal Bhargava Shruti Bhosale Dan Bikel Lukas Blecher Cristian Canton Ferrer Moya Chen\\nGuillem Cucurull David Esiobu Jude Fernandes Jeremy Fu Wenyin Fu Brian Fuller\\nCynthia Gao Vedanuj Goswami Naman Goyal Anthony Hartshorn Saghar Hosseini Rui Hou\\nHakan Inan Marcin Kardas Viktor Kerkez Madian Khabsa Isabel Kloumann Artem Korenev'"
      ]
     },
     "execution_count": 15,
     "metadata": {},
     "output_type": "execute_result"
    }
   ],
   "source": [
    "docs[0].page_content"
   ]
  },
  {
   "cell_type": "code",
   "execution_count": 16,
   "id": "4c2db5e9",
   "metadata": {},
   "outputs": [
    {
     "data": {
      "text/plain": [
       "{'producer': 'pdfTeX-1.40.25',\n",
       " 'creator': 'LaTeX with hyperref',\n",
       " 'creationdate': '2023-07-20T00:30:36+00:00',\n",
       " 'author': '',\n",
       " 'keywords': '',\n",
       " 'moddate': '2023-07-20T00:30:36+00:00',\n",
       " 'ptex.fullbanner': 'This is pdfTeX, Version 3.141592653-2.6-1.40.25 (TeX Live 2023) kpathsea version 6.3.5',\n",
       " 'subject': '',\n",
       " 'title': '',\n",
       " 'trapped': '/False',\n",
       " 'source': 'd:\\\\LLMOps_projects\\\\Document-Portal\\\\notebook\\\\data\\\\sample.pdf',\n",
       " 'total_pages': 77,\n",
       " 'page': 0,\n",
       " 'page_label': '1'}"
      ]
     },
     "execution_count": 16,
     "metadata": {},
     "output_type": "execute_result"
    }
   ],
   "source": [
    "docs[0].metadata"
   ]
  },
  {
   "cell_type": "code",
   "execution_count": 29,
   "id": "d155dbad",
   "metadata": {},
   "outputs": [],
   "source": [
    "embedding_model = OpenAIEmbeddings(model=\"text-embedding-3-small\")"
   ]
  },
  {
   "cell_type": "code",
   "execution_count": 30,
   "id": "3e6a0f21",
   "metadata": {},
   "outputs": [],
   "source": [
    "vector_store = FAISS.from_documents(documents=docs,embedding=embedding_model)"
   ]
  },
  {
   "cell_type": "code",
   "execution_count": 39,
   "id": "9d75646d",
   "metadata": {},
   "outputs": [],
   "source": [
    "### Retrieval Process\n",
    "relevant_doc = vector_store.similarity_search(\"What is the abstract of this paper?\", k = 6)"
   ]
  },
  {
   "cell_type": "code",
   "execution_count": 41,
   "id": "fcfe5909",
   "metadata": {},
   "outputs": [
    {
     "data": {
      "text/plain": [
       "[Document(id='4918ac5b-cb87-47dc-a083-25f61cb11127', metadata={'producer': 'pdfTeX-1.40.25', 'creator': 'LaTeX with hyperref', 'creationdate': '2023-07-20T00:30:36+00:00', 'author': '', 'keywords': '', 'moddate': '2023-07-20T00:30:36+00:00', 'ptex.fullbanner': 'This is pdfTeX, Version 3.141592653-2.6-1.40.25 (TeX Live 2023) kpathsea version 6.3.5', 'subject': '', 'title': '', 'trapped': '/False', 'source': 'd:\\\\LLMOps_projects\\\\Document-Portal\\\\notebook\\\\data\\\\sample.pdf', 'total_pages': 77, 'page': 39, 'page_label': '40'}, page_content='Dawn Song. The false promise of imitating proprietary llms.arXiv preprint arXiv:2305.15717, 2023.\\nUditGupta,MariamElgamal,GageHills,Gu-YeonWei,Hsien-HsinSLee,DavidBrooks,andCarole-JeanWu.\\nAct: designing sustainable computer systems with an architectural carbon modeling tool. InProceedings of\\nthe 49th Annual International Symposium on Computer Architecture, pages 784–799, 2022a.\\nUdit Gupta, Young Guen Kim, Sylvia Lee, Jordan Tse, Hsien-Hsin Sean Lee, Gu-Yeon Wei, David Brooks, and'),\n",
       " Document(id='904720f4-26ff-4de8-9b9c-5de429cb89ce', metadata={'producer': 'pdfTeX-1.40.25', 'creator': 'LaTeX with hyperref', 'creationdate': '2023-07-20T00:30:36+00:00', 'author': '', 'keywords': '', 'moddate': '2023-07-20T00:30:36+00:00', 'ptex.fullbanner': 'This is pdfTeX, Version 3.141592653-2.6-1.40.25 (TeX Live 2023) kpathsea version 6.3.5', 'subject': '', 'title': '', 'trapped': '/False', 'source': 'd:\\\\LLMOps_projects\\\\Document-Portal\\\\notebook\\\\data\\\\sample.pdf', 'total_pages': 77, 'page': 42, 'page_label': '43'}, page_content='challenge targeting commonsense knowledge.arXiv preprint arXiv:1811.00937, 2018.\\nRohan Taori, Ishaan Gulrajani, Tianyi Zhang, Yann Dubois, Xuechen Li, Carlos Guestrin, Percy Liang, and\\nTatsunori B. Hashimoto. Stanford alpaca: An instruction-following llama model.https://github.com/\\ntatsu-lab/stanford_alpaca, 2023.\\nRoss Taylor, Marcin Kardas, Guillem Cucurull, Thomas Scialom, Anthony Hartshorn, Elvis Saravia, Andrew'),\n",
       " Document(id='c2995f15-c4d5-497e-bcd2-da138dc9692a', metadata={'producer': 'pdfTeX-1.40.25', 'creator': 'LaTeX with hyperref', 'creationdate': '2023-07-20T00:30:36+00:00', 'author': '', 'keywords': '', 'moddate': '2023-07-20T00:30:36+00:00', 'ptex.fullbanner': 'This is pdfTeX, Version 3.141592653-2.6-1.40.25 (TeX Live 2023) kpathsea version 6.3.5', 'subject': '', 'title': '', 'trapped': '/False', 'source': 'd:\\\\LLMOps_projects\\\\Document-Portal\\\\notebook\\\\data\\\\sample.pdf', 'total_pages': 77, 'page': 38, 'page_label': '39'}, page_content='Processing (Volume 1: Long Papers), pages 7282–7296, Online, August 2021. Association for Computational\\nLinguistics. doi: 10.18653/v1/2021.acl-long.565. URLhttps://aclanthology.org/2021.acl-long.565.\\nPeter Clark, Isaac Cowhey, Oren Etzioni, Tushar Khot, Ashish Sabharwal, Carissa Schoenick, and Oyvind\\nTafjord. Think you have solved question answering? try arc, the ai2 reasoning challenge.arXiv preprint\\narXiv:1803.05457, 2018.'),\n",
       " Document(id='4e72dd49-be4f-4f99-9599-2804c328ac25', metadata={'producer': 'pdfTeX-1.40.25', 'creator': 'LaTeX with hyperref', 'creationdate': '2023-07-20T00:30:36+00:00', 'author': '', 'keywords': '', 'moddate': '2023-07-20T00:30:36+00:00', 'ptex.fullbanner': 'This is pdfTeX, Version 3.141592653-2.6-1.40.25 (TeX Live 2023) kpathsea version 6.3.5', 'subject': '', 'title': '', 'trapped': '/False', 'source': 'd:\\\\LLMOps_projects\\\\Document-Portal\\\\notebook\\\\data\\\\sample.pdf', 'total_pages': 77, 'page': 42, 'page_label': '43'}, page_content='Thomas Scialom, Paul-Alexis Dray, Sylvain Lamprier, Benjamin Piwowarski, and Jacopo Staiano. Discrim-\\ninative adversarial search for abstractive summarization. In Hal Daumé III and Aarti Singh, editors,\\nProceedings of the 37th International Conference on Machine Learning, volume 119 ofProceedings of Machine\\nLearningResearch,pages8555–8564.PMLR,13–18Jul2020a. URL https://proceedings.mlr.press/v119/\\nscialom20a.html.'),\n",
       " Document(id='bd05cd70-1f5c-4f25-8a8e-0c204bb29ad7', metadata={'producer': 'pdfTeX-1.40.25', 'creator': 'LaTeX with hyperref', 'creationdate': '2023-07-20T00:30:36+00:00', 'author': '', 'keywords': '', 'moddate': '2023-07-20T00:30:36+00:00', 'ptex.fullbanner': 'This is pdfTeX, Version 3.141592653-2.6-1.40.25 (TeX Live 2023) kpathsea version 6.3.5', 'subject': '', 'title': '', 'trapped': '/False', 'source': 'd:\\\\LLMOps_projects\\\\Document-Portal\\\\notebook\\\\data\\\\sample.pdf', 'total_pages': 77, 'page': 36, 'page_label': '37'}, page_content='preprint arXiv:2112.00861, 2021b.\\nJacob Austin, Augustus Odena, Maxwell Nye, Maarten Bosma, Henryk Michalewski, David Dohan, Ellen\\nJiang, Carrie Cai, Michael Terry, Quoc Le, and Charles Sutton. Program synthesis with large language\\nmodels, 2021.\\nDavid Autor and Anna Salomons. Is automation labor-displacing? productivity growth, employment, and\\nthe labor share. Technical report, National Bureau of Economic Research, 2018.'),\n",
       " Document(id='c2cee265-f45e-4195-9e4c-4354c433635a', metadata={'producer': 'pdfTeX-1.40.25', 'creator': 'LaTeX with hyperref', 'creationdate': '2023-07-20T00:30:36+00:00', 'author': '', 'keywords': '', 'moddate': '2023-07-20T00:30:36+00:00', 'ptex.fullbanner': 'This is pdfTeX, Version 3.141592653-2.6-1.40.25 (TeX Live 2023) kpathsea version 6.3.5', 'subject': '', 'title': '', 'trapped': '/False', 'source': 'd:\\\\LLMOps_projects\\\\Document-Portal\\\\notebook\\\\data\\\\sample.pdf', 'total_pages': 77, 'page': 38, 'page_label': '39'}, page_content='Transparency, pages 1789–1800, 2023.\\nDeep Ganguli, Liane Lovitt, Jackson Kernion, Amanda Askell, Yuntao Bai, Saurav Kadavath, Ben Mann,\\nEthan Perez, Nicholas Schiefer, Kamal Ndousse, et al. Red teaming language models to reduce harms:\\nMethods, scaling behaviors, and lessons learned.arXiv preprint arXiv:2209.07858, 2022.\\n39')]"
      ]
     },
     "execution_count": 41,
     "metadata": {},
     "output_type": "execute_result"
    }
   ],
   "source": [
    "relevant_doc"
   ]
  },
  {
   "cell_type": "code",
   "execution_count": null,
   "id": "8108d2c2",
   "metadata": {},
   "outputs": [],
   "source": [
    "retriever = vector_store.as_retriever(search_kwargs={k:})"
   ]
  },
  {
   "cell_type": "code",
   "execution_count": null,
   "id": "ad9a6d9a",
   "metadata": {},
   "outputs": [],
   "source": [
    "retriever.invoke()"
   ]
  },
  {
   "cell_type": "code",
   "execution_count": 43,
   "id": "949eb03c",
   "metadata": {},
   "outputs": [],
   "source": [
    "prompt_template = \"\"\"\n",
    "        Answer the question based on the context provided below. \n",
    "        If the context does not contain sufficient information, respond with: \n",
    "        \"I do not have enough information about this.\"\n",
    "\n",
    "        Context: {context}\n",
    "\n",
    "        Question: {question}\n",
    "\n",
    "        Answer:\"\"\""
   ]
  },
  {
   "cell_type": "code",
   "execution_count": 45,
   "id": "c71b91da",
   "metadata": {},
   "outputs": [],
   "source": [
    "prompt=PromptTemplate(\n",
    "    template=prompt_template,\n",
    "    input_variables=[\"context\", \"question\"]\n",
    ")"
   ]
  },
  {
   "cell_type": "code",
   "execution_count": 46,
   "id": "a11f055a",
   "metadata": {},
   "outputs": [
    {
     "data": {
      "text/plain": [
       "PromptTemplate(input_variables=['context', 'question'], input_types={}, partial_variables={}, template='\\n        Answer the question based on the context provided below. \\n        If the context does not contain sufficient information, respond with: \\n        \"I do not have enough information about this.\"\\n\\n        Context: {context}\\n\\n        Question: {question}\\n\\n        Answer:')"
      ]
     },
     "execution_count": 46,
     "metadata": {},
     "output_type": "execute_result"
    }
   ],
   "source": [
    "prompt"
   ]
  },
  {
   "cell_type": "code",
   "execution_count": 48,
   "id": "23610bad",
   "metadata": {},
   "outputs": [],
   "source": [
    "parser=StrOutputParser()"
   ]
  },
  {
   "cell_type": "code",
   "execution_count": 49,
   "id": "2ff25acd",
   "metadata": {},
   "outputs": [],
   "source": [
    "def format_docs(docs):\n",
    "    return \"\\n\\n\".join([doc.page_content for doc in docs])"
   ]
  },
  {
   "cell_type": "code",
   "execution_count": 56,
   "id": "29dd39db",
   "metadata": {},
   "outputs": [],
   "source": [
    "llm=ChatGroq(model=\"deepseek-r1-distill-llama-70b\")"
   ]
  },
  {
   "cell_type": "code",
   "execution_count": 57,
   "id": "de5eea88",
   "metadata": {},
   "outputs": [],
   "source": [
    "rag_chain = (\n",
    "    {\"context\": retriever | format_docs, \"question\": RunnablePassthrough()}\n",
    "    | prompt\n",
    "    | llm\n",
    "    | StrOutputParser()\n",
    ")"
   ]
  },
  {
   "cell_type": "code",
   "execution_count": 58,
   "id": "f7c6d206",
   "metadata": {},
   "outputs": [
    {
     "data": {
      "text/plain": [
       "\"<think>\\nOkay, so I need to figure out how to answer the question based on the provided context. The question is asking for a summary of the paper. Let me read through the context carefully.\\n\\nThe context starts with a citation by Thomas Scialom and others about a paper on abstractive summarization using discriminative adversarial search. Then there's a paragraph mentioning that the paper contributes a thorough description of their fine-tuning methodology for improving LLM safety. They hope this openness will help the community reproduce and improve these models, leading to more responsible development. They also share new observations from developing Llama 2 and Llama 2-Chat, like tool usage and knowledge organization.\\n\\nThen there are more citations from other authors, but those seem unrelated to the main paper in question. The last part lists acknowledgments, which probably aren't part of the main content.\\n\\nSo, the main paper discussed in the context is about their approach to fine-tuning LLMs for safety, their methodology, and some new findings. The other citations are just references and don't contribute to the paper's summary.\\n\\nI think the answer should focus on the main paper's contributions: their methodology for improving LLM safety, the openness for reproducibility, and the novel observations from Llama 2 developments.\\n</think>\\n\\nThe paper by Thomas Scialom and colleagues presents a detailed methodology for fine-tuning large language models (LLMs) to enhance safety. They emphasize openness and reproducibility, encouraging the community to build upon their work for responsible LLM development. Additionally, the paper highlights novel insights gained during the development of Llama 2 and Llama 2-Chat, particularly the emergence of tool usage and the temporal organization of knowledge, showcasing advancements in model capabilities.\""
      ]
     },
     "execution_count": 58,
     "metadata": {},
     "output_type": "execute_result"
    }
   ],
   "source": [
    "rag_chain.invoke(\"can you provide a summary of this paper?\")"
   ]
  },
  {
   "cell_type": "code",
   "execution_count": null,
   "id": "fbe3e8d7",
   "metadata": {},
   "outputs": [],
   "source": []
  }
 ],
 "metadata": {
  "kernelspec": {
   "display_name": "Python 3",
   "language": "python",
   "name": "python3"
  },
  "language_info": {
   "codemirror_mode": {
    "name": "ipython",
    "version": 3
   },
   "file_extension": ".py",
   "mimetype": "text/x-python",
   "name": "python",
   "nbconvert_exporter": "python",
   "pygments_lexer": "ipython3",
   "version": "3.10.18"
  }
 },
 "nbformat": 4,
 "nbformat_minor": 5
}
